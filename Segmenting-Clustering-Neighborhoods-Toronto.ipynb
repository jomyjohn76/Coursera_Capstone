{
 "cells": [
  {
   "cell_type": "markdown",
   "metadata": {},
   "source": [
    "# Segmenting and Clustering Neighborhoods in Toronto"
   ]
  },
  {
   "cell_type": "code",
   "execution_count": 1,
   "metadata": {},
   "outputs": [],
   "source": [
    "import pandas as pd"
   ]
  },
  {
   "cell_type": "code",
   "execution_count": 2,
   "metadata": {},
   "outputs": [],
   "source": [
    "from bs4 import BeautifulSoup"
   ]
  },
  {
   "cell_type": "code",
   "execution_count": 3,
   "metadata": {},
   "outputs": [],
   "source": [
    "import requests\n",
    "\n",
    "url = 'https://en.wikipedia.org/wiki/List_of_postal_codes_of_Canada:_M'\n",
    "\n",
    "r = requests.get(url)\n",
    "\n",
    "soup = BeautifulSoup(r.content)\n"
   ]
  },
  {
   "cell_type": "code",
   "execution_count": 4,
   "metadata": {},
   "outputs": [],
   "source": [
    "\n",
    "table = soup.find('table')\n",
    "df = pd.read_html(str(table))[0]"
   ]
  },
  {
   "cell_type": "code",
   "execution_count": 5,
   "metadata": {},
   "outputs": [
    {
     "data": {
      "text/html": [
       "<div>\n",
       "<style scoped>\n",
       "    .dataframe tbody tr th:only-of-type {\n",
       "        vertical-align: middle;\n",
       "    }\n",
       "\n",
       "    .dataframe tbody tr th {\n",
       "        vertical-align: top;\n",
       "    }\n",
       "\n",
       "    .dataframe thead th {\n",
       "        text-align: right;\n",
       "    }\n",
       "</style>\n",
       "<table border=\"1\" class=\"dataframe\">\n",
       "  <thead>\n",
       "    <tr style=\"text-align: right;\">\n",
       "      <th></th>\n",
       "      <th>Postal Code</th>\n",
       "      <th>Borough</th>\n",
       "      <th>Neighbourhood</th>\n",
       "    </tr>\n",
       "  </thead>\n",
       "  <tbody>\n",
       "    <tr>\n",
       "      <th>0</th>\n",
       "      <td>M1A</td>\n",
       "      <td>Not assigned</td>\n",
       "      <td>Not assigned</td>\n",
       "    </tr>\n",
       "    <tr>\n",
       "      <th>1</th>\n",
       "      <td>M2A</td>\n",
       "      <td>Not assigned</td>\n",
       "      <td>Not assigned</td>\n",
       "    </tr>\n",
       "    <tr>\n",
       "      <th>2</th>\n",
       "      <td>M3A</td>\n",
       "      <td>North York</td>\n",
       "      <td>Parkwoods</td>\n",
       "    </tr>\n",
       "    <tr>\n",
       "      <th>3</th>\n",
       "      <td>M4A</td>\n",
       "      <td>North York</td>\n",
       "      <td>Victoria Village</td>\n",
       "    </tr>\n",
       "    <tr>\n",
       "      <th>4</th>\n",
       "      <td>M5A</td>\n",
       "      <td>Downtown Toronto</td>\n",
       "      <td>Regent Park, Harbourfront</td>\n",
       "    </tr>\n",
       "  </tbody>\n",
       "</table>\n",
       "</div>"
      ],
      "text/plain": [
       "  Postal Code           Borough              Neighbourhood\n",
       "0         M1A      Not assigned               Not assigned\n",
       "1         M2A      Not assigned               Not assigned\n",
       "2         M3A        North York                  Parkwoods\n",
       "3         M4A        North York           Victoria Village\n",
       "4         M5A  Downtown Toronto  Regent Park, Harbourfront"
      ]
     },
     "execution_count": 5,
     "metadata": {},
     "output_type": "execute_result"
    }
   ],
   "source": [
    "df.head()"
   ]
  },
  {
   "cell_type": "code",
   "execution_count": 6,
   "metadata": {},
   "outputs": [],
   "source": [
    "# remove rows whos Borough value is Not assigned\n",
    "df = df.drop(df[df.Borough == \"Not assigned\"].index)"
   ]
  },
  {
   "cell_type": "code",
   "execution_count": 7,
   "metadata": {},
   "outputs": [
    {
     "name": "stdout",
     "output_type": "stream",
     "text": [
      "<class 'pandas.core.frame.DataFrame'>\n",
      "Int64Index: 103 entries, 2 to 178\n",
      "Data columns (total 3 columns):\n",
      " #   Column         Non-Null Count  Dtype \n",
      "---  ------         --------------  ----- \n",
      " 0   Postal Code    103 non-null    object\n",
      " 1   Borough        103 non-null    object\n",
      " 2   Neighbourhood  103 non-null    object\n",
      "dtypes: object(3)\n",
      "memory usage: 3.2+ KB\n"
     ]
    }
   ],
   "source": [
    "df.info()"
   ]
  },
  {
   "cell_type": "code",
   "execution_count": 8,
   "metadata": {},
   "outputs": [
    {
     "data": {
      "text/html": [
       "<div>\n",
       "<style scoped>\n",
       "    .dataframe tbody tr th:only-of-type {\n",
       "        vertical-align: middle;\n",
       "    }\n",
       "\n",
       "    .dataframe tbody tr th {\n",
       "        vertical-align: top;\n",
       "    }\n",
       "\n",
       "    .dataframe thead th {\n",
       "        text-align: right;\n",
       "    }\n",
       "</style>\n",
       "<table border=\"1\" class=\"dataframe\">\n",
       "  <thead>\n",
       "    <tr style=\"text-align: right;\">\n",
       "      <th></th>\n",
       "      <th>Postal Code</th>\n",
       "      <th>Borough</th>\n",
       "      <th>Neighbourhood</th>\n",
       "    </tr>\n",
       "  </thead>\n",
       "  <tbody>\n",
       "    <tr>\n",
       "      <th>2</th>\n",
       "      <td>M3A</td>\n",
       "      <td>North York</td>\n",
       "      <td>Parkwoods</td>\n",
       "    </tr>\n",
       "    <tr>\n",
       "      <th>3</th>\n",
       "      <td>M4A</td>\n",
       "      <td>North York</td>\n",
       "      <td>Victoria Village</td>\n",
       "    </tr>\n",
       "    <tr>\n",
       "      <th>4</th>\n",
       "      <td>M5A</td>\n",
       "      <td>Downtown Toronto</td>\n",
       "      <td>Regent Park, Harbourfront</td>\n",
       "    </tr>\n",
       "    <tr>\n",
       "      <th>5</th>\n",
       "      <td>M6A</td>\n",
       "      <td>North York</td>\n",
       "      <td>Lawrence Manor, Lawrence Heights</td>\n",
       "    </tr>\n",
       "    <tr>\n",
       "      <th>6</th>\n",
       "      <td>M7A</td>\n",
       "      <td>Downtown Toronto</td>\n",
       "      <td>Queen's Park, Ontario Provincial Government</td>\n",
       "    </tr>\n",
       "    <tr>\n",
       "      <th>8</th>\n",
       "      <td>M9A</td>\n",
       "      <td>Etobicoke</td>\n",
       "      <td>Islington Avenue, Humber Valley Village</td>\n",
       "    </tr>\n",
       "    <tr>\n",
       "      <th>9</th>\n",
       "      <td>M1B</td>\n",
       "      <td>Scarborough</td>\n",
       "      <td>Malvern, Rouge</td>\n",
       "    </tr>\n",
       "    <tr>\n",
       "      <th>11</th>\n",
       "      <td>M3B</td>\n",
       "      <td>North York</td>\n",
       "      <td>Don Mills</td>\n",
       "    </tr>\n",
       "    <tr>\n",
       "      <th>12</th>\n",
       "      <td>M4B</td>\n",
       "      <td>East York</td>\n",
       "      <td>Parkview Hill, Woodbine Gardens</td>\n",
       "    </tr>\n",
       "    <tr>\n",
       "      <th>13</th>\n",
       "      <td>M5B</td>\n",
       "      <td>Downtown Toronto</td>\n",
       "      <td>Garden District, Ryerson</td>\n",
       "    </tr>\n",
       "  </tbody>\n",
       "</table>\n",
       "</div>"
      ],
      "text/plain": [
       "   Postal Code           Borough                                Neighbourhood\n",
       "2          M3A        North York                                    Parkwoods\n",
       "3          M4A        North York                             Victoria Village\n",
       "4          M5A  Downtown Toronto                    Regent Park, Harbourfront\n",
       "5          M6A        North York             Lawrence Manor, Lawrence Heights\n",
       "6          M7A  Downtown Toronto  Queen's Park, Ontario Provincial Government\n",
       "8          M9A         Etobicoke      Islington Avenue, Humber Valley Village\n",
       "9          M1B       Scarborough                               Malvern, Rouge\n",
       "11         M3B        North York                                    Don Mills\n",
       "12         M4B         East York              Parkview Hill, Woodbine Gardens\n",
       "13         M5B  Downtown Toronto                     Garden District, Ryerson"
      ]
     },
     "execution_count": 8,
     "metadata": {},
     "output_type": "execute_result"
    }
   ],
   "source": [
    "df.head(10)"
   ]
  },
  {
   "cell_type": "code",
   "execution_count": 9,
   "metadata": {},
   "outputs": [
    {
     "data": {
      "text/plain": [
       "Postal Code      0\n",
       "Borough          0\n",
       "Neighbourhood    0\n",
       "dtype: int64"
      ]
     },
     "execution_count": 9,
     "metadata": {},
     "output_type": "execute_result"
    }
   ],
   "source": [
    "# check any neighbourhood has value Not assigned.\n",
    "df[df.Neighbourhood == \"Not assigned\"].count()"
   ]
  },
  {
   "cell_type": "code",
   "execution_count": 10,
   "metadata": {},
   "outputs": [
    {
     "data": {
      "text/plain": [
       "(103, 3)"
      ]
     },
     "execution_count": 10,
     "metadata": {},
     "output_type": "execute_result"
    }
   ],
   "source": [
    "# Show data frame Shape\n",
    "df.shape"
   ]
  },
  {
   "cell_type": "code",
   "execution_count": 11,
   "metadata": {},
   "outputs": [],
   "source": [
    "#import geocoder # import geocoder\n",
    "\n",
    "## initialize your variable to None\n",
    "#lat_lng_coords = None\n",
    "\n",
    "## loop until you get the coordinates\n",
    "#while(lat_lng_coords is None):\n",
    "#  g = geocoder.google('{}, Toronto, Ontario'.format(postal_code))\n",
    "#  lat_lng_coords = g.latlng\n",
    "\n",
    "#latitude = lat_lng_coords[0]\n",
    "#longitude = lat_lng_coords[1]"
   ]
  },
  {
   "cell_type": "code",
   "execution_count": 12,
   "metadata": {},
   "outputs": [
    {
     "data": {
      "text/html": [
       "<div>\n",
       "<style scoped>\n",
       "    .dataframe tbody tr th:only-of-type {\n",
       "        vertical-align: middle;\n",
       "    }\n",
       "\n",
       "    .dataframe tbody tr th {\n",
       "        vertical-align: top;\n",
       "    }\n",
       "\n",
       "    .dataframe thead th {\n",
       "        text-align: right;\n",
       "    }\n",
       "</style>\n",
       "<table border=\"1\" class=\"dataframe\">\n",
       "  <thead>\n",
       "    <tr style=\"text-align: right;\">\n",
       "      <th></th>\n",
       "      <th>Postal Code</th>\n",
       "      <th>Latitude</th>\n",
       "      <th>Longitude</th>\n",
       "    </tr>\n",
       "  </thead>\n",
       "  <tbody>\n",
       "    <tr>\n",
       "      <th>0</th>\n",
       "      <td>M1B</td>\n",
       "      <td>43.806686</td>\n",
       "      <td>-79.194353</td>\n",
       "    </tr>\n",
       "    <tr>\n",
       "      <th>1</th>\n",
       "      <td>M1C</td>\n",
       "      <td>43.784535</td>\n",
       "      <td>-79.160497</td>\n",
       "    </tr>\n",
       "    <tr>\n",
       "      <th>2</th>\n",
       "      <td>M1E</td>\n",
       "      <td>43.763573</td>\n",
       "      <td>-79.188711</td>\n",
       "    </tr>\n",
       "    <tr>\n",
       "      <th>3</th>\n",
       "      <td>M1G</td>\n",
       "      <td>43.770992</td>\n",
       "      <td>-79.216917</td>\n",
       "    </tr>\n",
       "    <tr>\n",
       "      <th>4</th>\n",
       "      <td>M1H</td>\n",
       "      <td>43.773136</td>\n",
       "      <td>-79.239476</td>\n",
       "    </tr>\n",
       "  </tbody>\n",
       "</table>\n",
       "</div>"
      ],
      "text/plain": [
       "  Postal Code   Latitude  Longitude\n",
       "0         M1B  43.806686 -79.194353\n",
       "1         M1C  43.784535 -79.160497\n",
       "2         M1E  43.763573 -79.188711\n",
       "3         M1G  43.770992 -79.216917\n",
       "4         M1H  43.773136 -79.239476"
      ]
     },
     "execution_count": 12,
     "metadata": {},
     "output_type": "execute_result"
    }
   ],
   "source": [
    "#Load geographical coordinates\n",
    "geo_df = pd.read_csv('Geospatial_Coordinates.csv')\n",
    "geo_df.head()"
   ]
  },
  {
   "cell_type": "code",
   "execution_count": 13,
   "metadata": {},
   "outputs": [],
   "source": [
    "# Merge Neighbourhood dataframe with geographical coordinates\n",
    "dfall = pd.merge(df, geo_df, on=['Postal Code','Postal Code'])"
   ]
  },
  {
   "cell_type": "code",
   "execution_count": 14,
   "metadata": {},
   "outputs": [
    {
     "data": {
      "text/html": [
       "<div>\n",
       "<style scoped>\n",
       "    .dataframe tbody tr th:only-of-type {\n",
       "        vertical-align: middle;\n",
       "    }\n",
       "\n",
       "    .dataframe tbody tr th {\n",
       "        vertical-align: top;\n",
       "    }\n",
       "\n",
       "    .dataframe thead th {\n",
       "        text-align: right;\n",
       "    }\n",
       "</style>\n",
       "<table border=\"1\" class=\"dataframe\">\n",
       "  <thead>\n",
       "    <tr style=\"text-align: right;\">\n",
       "      <th></th>\n",
       "      <th>Postal Code</th>\n",
       "      <th>Borough</th>\n",
       "      <th>Neighbourhood</th>\n",
       "      <th>Latitude</th>\n",
       "      <th>Longitude</th>\n",
       "    </tr>\n",
       "  </thead>\n",
       "  <tbody>\n",
       "    <tr>\n",
       "      <th>0</th>\n",
       "      <td>M3A</td>\n",
       "      <td>North York</td>\n",
       "      <td>Parkwoods</td>\n",
       "      <td>43.753259</td>\n",
       "      <td>-79.329656</td>\n",
       "    </tr>\n",
       "    <tr>\n",
       "      <th>1</th>\n",
       "      <td>M4A</td>\n",
       "      <td>North York</td>\n",
       "      <td>Victoria Village</td>\n",
       "      <td>43.725882</td>\n",
       "      <td>-79.315572</td>\n",
       "    </tr>\n",
       "    <tr>\n",
       "      <th>2</th>\n",
       "      <td>M5A</td>\n",
       "      <td>Downtown Toronto</td>\n",
       "      <td>Regent Park, Harbourfront</td>\n",
       "      <td>43.654260</td>\n",
       "      <td>-79.360636</td>\n",
       "    </tr>\n",
       "    <tr>\n",
       "      <th>3</th>\n",
       "      <td>M6A</td>\n",
       "      <td>North York</td>\n",
       "      <td>Lawrence Manor, Lawrence Heights</td>\n",
       "      <td>43.718518</td>\n",
       "      <td>-79.464763</td>\n",
       "    </tr>\n",
       "    <tr>\n",
       "      <th>4</th>\n",
       "      <td>M7A</td>\n",
       "      <td>Downtown Toronto</td>\n",
       "      <td>Queen's Park, Ontario Provincial Government</td>\n",
       "      <td>43.662301</td>\n",
       "      <td>-79.389494</td>\n",
       "    </tr>\n",
       "  </tbody>\n",
       "</table>\n",
       "</div>"
      ],
      "text/plain": [
       "  Postal Code           Borough                                Neighbourhood  \\\n",
       "0         M3A        North York                                    Parkwoods   \n",
       "1         M4A        North York                             Victoria Village   \n",
       "2         M5A  Downtown Toronto                    Regent Park, Harbourfront   \n",
       "3         M6A        North York             Lawrence Manor, Lawrence Heights   \n",
       "4         M7A  Downtown Toronto  Queen's Park, Ontario Provincial Government   \n",
       "\n",
       "    Latitude  Longitude  \n",
       "0  43.753259 -79.329656  \n",
       "1  43.725882 -79.315572  \n",
       "2  43.654260 -79.360636  \n",
       "3  43.718518 -79.464763  \n",
       "4  43.662301 -79.389494  "
      ]
     },
     "execution_count": 14,
     "metadata": {},
     "output_type": "execute_result"
    }
   ],
   "source": [
    "dfall.head()"
   ]
  },
  {
   "cell_type": "code",
   "execution_count": 15,
   "metadata": {},
   "outputs": [
    {
     "name": "stdout",
     "output_type": "stream",
     "text": [
      "<class 'pandas.core.frame.DataFrame'>\n",
      "Int64Index: 39 entries, 2 to 100\n",
      "Data columns (total 5 columns):\n",
      " #   Column         Non-Null Count  Dtype  \n",
      "---  ------         --------------  -----  \n",
      " 0   Postal Code    39 non-null     object \n",
      " 1   Borough        39 non-null     object \n",
      " 2   Neighbourhood  39 non-null     object \n",
      " 3   Latitude       39 non-null     float64\n",
      " 4   Longitude      39 non-null     float64\n",
      "dtypes: float64(2), object(3)\n",
      "memory usage: 1.8+ KB\n"
     ]
    }
   ],
   "source": [
    "#get only Toronto borough\n",
    "dfToronto = dfall[dfall['Borough'].str.contains(\"Toronto\")]\n",
    "    \n",
    "dfToronto.info()   \n",
    "    "
   ]
  },
  {
   "cell_type": "code",
   "execution_count": 16,
   "metadata": {},
   "outputs": [
    {
     "data": {
      "text/html": [
       "<div>\n",
       "<style scoped>\n",
       "    .dataframe tbody tr th:only-of-type {\n",
       "        vertical-align: middle;\n",
       "    }\n",
       "\n",
       "    .dataframe tbody tr th {\n",
       "        vertical-align: top;\n",
       "    }\n",
       "\n",
       "    .dataframe thead th {\n",
       "        text-align: right;\n",
       "    }\n",
       "</style>\n",
       "<table border=\"1\" class=\"dataframe\">\n",
       "  <thead>\n",
       "    <tr style=\"text-align: right;\">\n",
       "      <th></th>\n",
       "      <th>Postal Code</th>\n",
       "      <th>Borough</th>\n",
       "      <th>Neighbourhood</th>\n",
       "      <th>Latitude</th>\n",
       "      <th>Longitude</th>\n",
       "    </tr>\n",
       "  </thead>\n",
       "  <tbody>\n",
       "    <tr>\n",
       "      <th>2</th>\n",
       "      <td>M5A</td>\n",
       "      <td>Downtown Toronto</td>\n",
       "      <td>Regent Park, Harbourfront</td>\n",
       "      <td>43.654260</td>\n",
       "      <td>-79.360636</td>\n",
       "    </tr>\n",
       "    <tr>\n",
       "      <th>4</th>\n",
       "      <td>M7A</td>\n",
       "      <td>Downtown Toronto</td>\n",
       "      <td>Queen's Park, Ontario Provincial Government</td>\n",
       "      <td>43.662301</td>\n",
       "      <td>-79.389494</td>\n",
       "    </tr>\n",
       "    <tr>\n",
       "      <th>9</th>\n",
       "      <td>M5B</td>\n",
       "      <td>Downtown Toronto</td>\n",
       "      <td>Garden District, Ryerson</td>\n",
       "      <td>43.657162</td>\n",
       "      <td>-79.378937</td>\n",
       "    </tr>\n",
       "    <tr>\n",
       "      <th>15</th>\n",
       "      <td>M5C</td>\n",
       "      <td>Downtown Toronto</td>\n",
       "      <td>St. James Town</td>\n",
       "      <td>43.651494</td>\n",
       "      <td>-79.375418</td>\n",
       "    </tr>\n",
       "    <tr>\n",
       "      <th>19</th>\n",
       "      <td>M4E</td>\n",
       "      <td>East Toronto</td>\n",
       "      <td>The Beaches</td>\n",
       "      <td>43.676357</td>\n",
       "      <td>-79.293031</td>\n",
       "    </tr>\n",
       "  </tbody>\n",
       "</table>\n",
       "</div>"
      ],
      "text/plain": [
       "   Postal Code           Borough                                Neighbourhood  \\\n",
       "2          M5A  Downtown Toronto                    Regent Park, Harbourfront   \n",
       "4          M7A  Downtown Toronto  Queen's Park, Ontario Provincial Government   \n",
       "9          M5B  Downtown Toronto                     Garden District, Ryerson   \n",
       "15         M5C  Downtown Toronto                               St. James Town   \n",
       "19         M4E      East Toronto                                  The Beaches   \n",
       "\n",
       "     Latitude  Longitude  \n",
       "2   43.654260 -79.360636  \n",
       "4   43.662301 -79.389494  \n",
       "9   43.657162 -79.378937  \n",
       "15  43.651494 -79.375418  \n",
       "19  43.676357 -79.293031  "
      ]
     },
     "execution_count": 16,
     "metadata": {},
     "output_type": "execute_result"
    }
   ],
   "source": [
    "dfToronto.head()\n",
    "    "
   ]
  },
  {
   "cell_type": "code",
   "execution_count": 17,
   "metadata": {},
   "outputs": [
    {
     "name": "stdout",
     "output_type": "stream",
     "text": [
      "The dataframe has 4 boroughs and 39 neighborhoods.\n"
     ]
    }
   ],
   "source": [
    "print('The dataframe has {} boroughs and {} neighborhoods.'.format(\n",
    "        len(dfToronto['Borough'].unique()),\n",
    "        dfToronto.shape[0]\n",
    "    )\n",
    ")"
   ]
  },
  {
   "cell_type": "code",
   "execution_count": 20,
   "metadata": {},
   "outputs": [
    {
     "name": "stdout",
     "output_type": "stream",
     "text": [
      "The geograpical coordinate of Toronto are 43.6534817, -79.3839347.\n"
     ]
    }
   ],
   "source": [
    "from geopy.geocoders import Nominatim\n",
    "address = 'Toronto'\n",
    "\n",
    "geolocator = Nominatim(user_agent=\"ny_explorer\")\n",
    "location = geolocator.geocode(address)\n",
    "latitude = location.latitude\n",
    "longitude = location.longitude\n",
    "print('The geograpical coordinate of Toronto are {}, {}.'.format(latitude, longitude))"
   ]
  },
  {
   "cell_type": "code",
   "execution_count": 25,
   "metadata": {},
   "outputs": [
    {
     "data": {
      "text/html": [
       "<div style=\"width:100%;\"><div style=\"position:relative;width:100%;height:0;padding-bottom:60%;\"><span style=\"color:#565656\">Make this Notebook Trusted to load map: File -> Trust Notebook</span><iframe src=\"about:blank\" style=\"position:absolute;width:100%;height:100%;left:0;top:0;border:none !important;\" data-html=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 onload=\"this.contentDocument.open();this.contentDocument.write(atob(this.getAttribute('data-html')));this.contentDocument.close();\" allowfullscreen webkitallowfullscreen mozallowfullscreen></iframe></div></div>"
      ],
      "text/plain": [
       "<folium.folium.Map at 0x2683863ec10>"
      ]
     },
     "execution_count": 25,
     "metadata": {},
     "output_type": "execute_result"
    }
   ],
   "source": [
    "# create map of Toronto using latitude and longitude values\n",
    "import folium # map rendering library\n",
    "map_Toronto = folium.Map(location=[latitude, longitude], zoom_start=10)\n",
    "\n",
    "# add markers to map\n",
    "for lat, lng, borough, neighborhood in zip(dfToronto['Latitude'], dfToronto['Longitude'], dfToronto['Borough'], dfToronto['Neighbourhood']):\n",
    "    label = '{}, {}'.format(neighborhood, borough)\n",
    "    label = folium.Popup(label, parse_html=True)\n",
    "    folium.CircleMarker(\n",
    "        [lat, lng],\n",
    "        radius=5,\n",
    "        popup=label,\n",
    "        color='blue',\n",
    "        fill=True,\n",
    "        fill_color='#3186cc',\n",
    "        fill_opacity=0.7,\n",
    "        parse_html=False).add_to(map_Toronto)  \n",
    "    \n",
    "map_Toronto"
   ]
  },
  {
   "cell_type": "code",
   "execution_count": null,
   "metadata": {},
   "outputs": [],
   "source": []
  }
 ],
 "metadata": {
  "kernelspec": {
   "display_name": "Python 3",
   "language": "python",
   "name": "python3"
  },
  "language_info": {
   "codemirror_mode": {
    "name": "ipython",
    "version": 3
   },
   "file_extension": ".py",
   "mimetype": "text/x-python",
   "name": "python",
   "nbconvert_exporter": "python",
   "pygments_lexer": "ipython3",
   "version": "3.8.3"
  }
 },
 "nbformat": 4,
 "nbformat_minor": 4
}