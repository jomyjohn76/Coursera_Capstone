{
 "cells": [
  {
   "cell_type": "markdown",
   "metadata": {},
   "source": [
    "# Segmenting and Clustering Neighborhoods in Toronto"
   ]
  },
  {
   "cell_type": "code",
   "execution_count": 1,
   "metadata": {},
   "outputs": [],
   "source": [
    "import pandas as pd"
   ]
  },
  {
   "cell_type": "code",
   "execution_count": 2,
   "metadata": {},
   "outputs": [],
   "source": [
    "from bs4 import BeautifulSoup"
   ]
  },
  {
   "cell_type": "code",
   "execution_count": 3,
   "metadata": {},
   "outputs": [],
   "source": [
    "import requests\n",
    "\n",
    "url = 'https://en.wikipedia.org/wiki/List_of_postal_codes_of_Canada:_M'\n",
    "\n",
    "r = requests.get(url)\n",
    "\n",
    "soup = BeautifulSoup(r.content)\n"
   ]
  },
  {
   "cell_type": "code",
   "execution_count": 4,
   "metadata": {},
   "outputs": [],
   "source": [
    "\n",
    "table = soup.find('table')\n",
    "df = pd.read_html(str(table))[0]"
   ]
  },
  {
   "cell_type": "code",
   "execution_count": 5,
   "metadata": {},
   "outputs": [
    {
     "data": {
      "text/html": [
       "<div>\n",
       "<style scoped>\n",
       "    .dataframe tbody tr th:only-of-type {\n",
       "        vertical-align: middle;\n",
       "    }\n",
       "\n",
       "    .dataframe tbody tr th {\n",
       "        vertical-align: top;\n",
       "    }\n",
       "\n",
       "    .dataframe thead th {\n",
       "        text-align: right;\n",
       "    }\n",
       "</style>\n",
       "<table border=\"1\" class=\"dataframe\">\n",
       "  <thead>\n",
       "    <tr style=\"text-align: right;\">\n",
       "      <th></th>\n",
       "      <th>Postal Code</th>\n",
       "      <th>Borough</th>\n",
       "      <th>Neighbourhood</th>\n",
       "    </tr>\n",
       "  </thead>\n",
       "  <tbody>\n",
       "    <tr>\n",
       "      <th>0</th>\n",
       "      <td>M1A</td>\n",
       "      <td>Not assigned</td>\n",
       "      <td>Not assigned</td>\n",
       "    </tr>\n",
       "    <tr>\n",
       "      <th>1</th>\n",
       "      <td>M2A</td>\n",
       "      <td>Not assigned</td>\n",
       "      <td>Not assigned</td>\n",
       "    </tr>\n",
       "    <tr>\n",
       "      <th>2</th>\n",
       "      <td>M3A</td>\n",
       "      <td>North York</td>\n",
       "      <td>Parkwoods</td>\n",
       "    </tr>\n",
       "    <tr>\n",
       "      <th>3</th>\n",
       "      <td>M4A</td>\n",
       "      <td>North York</td>\n",
       "      <td>Victoria Village</td>\n",
       "    </tr>\n",
       "    <tr>\n",
       "      <th>4</th>\n",
       "      <td>M5A</td>\n",
       "      <td>Downtown Toronto</td>\n",
       "      <td>Regent Park, Harbourfront</td>\n",
       "    </tr>\n",
       "  </tbody>\n",
       "</table>\n",
       "</div>"
      ],
      "text/plain": [
       "  Postal Code           Borough              Neighbourhood\n",
       "0         M1A      Not assigned               Not assigned\n",
       "1         M2A      Not assigned               Not assigned\n",
       "2         M3A        North York                  Parkwoods\n",
       "3         M4A        North York           Victoria Village\n",
       "4         M5A  Downtown Toronto  Regent Park, Harbourfront"
      ]
     },
     "execution_count": 5,
     "metadata": {},
     "output_type": "execute_result"
    }
   ],
   "source": [
    "df.head()"
   ]
  },
  {
   "cell_type": "code",
   "execution_count": 6,
   "metadata": {},
   "outputs": [],
   "source": [
    "# remove rows whos Borough value is Not assigned\n",
    "df = df.drop(df[df.Borough == \"Not assigned\"].index)"
   ]
  },
  {
   "cell_type": "code",
   "execution_count": 7,
   "metadata": {},
   "outputs": [
    {
     "name": "stdout",
     "output_type": "stream",
     "text": [
      "<class 'pandas.core.frame.DataFrame'>\n",
      "Int64Index: 103 entries, 2 to 178\n",
      "Data columns (total 3 columns):\n",
      " #   Column         Non-Null Count  Dtype \n",
      "---  ------         --------------  ----- \n",
      " 0   Postal Code    103 non-null    object\n",
      " 1   Borough        103 non-null    object\n",
      " 2   Neighbourhood  103 non-null    object\n",
      "dtypes: object(3)\n",
      "memory usage: 3.2+ KB\n"
     ]
    }
   ],
   "source": [
    "df.info()"
   ]
  },
  {
   "cell_type": "code",
   "execution_count": 8,
   "metadata": {},
   "outputs": [
    {
     "data": {
      "text/html": [
       "<div>\n",
       "<style scoped>\n",
       "    .dataframe tbody tr th:only-of-type {\n",
       "        vertical-align: middle;\n",
       "    }\n",
       "\n",
       "    .dataframe tbody tr th {\n",
       "        vertical-align: top;\n",
       "    }\n",
       "\n",
       "    .dataframe thead th {\n",
       "        text-align: right;\n",
       "    }\n",
       "</style>\n",
       "<table border=\"1\" class=\"dataframe\">\n",
       "  <thead>\n",
       "    <tr style=\"text-align: right;\">\n",
       "      <th></th>\n",
       "      <th>Postal Code</th>\n",
       "      <th>Borough</th>\n",
       "      <th>Neighbourhood</th>\n",
       "    </tr>\n",
       "  </thead>\n",
       "  <tbody>\n",
       "    <tr>\n",
       "      <th>2</th>\n",
       "      <td>M3A</td>\n",
       "      <td>North York</td>\n",
       "      <td>Parkwoods</td>\n",
       "    </tr>\n",
       "    <tr>\n",
       "      <th>3</th>\n",
       "      <td>M4A</td>\n",
       "      <td>North York</td>\n",
       "      <td>Victoria Village</td>\n",
       "    </tr>\n",
       "    <tr>\n",
       "      <th>4</th>\n",
       "      <td>M5A</td>\n",
       "      <td>Downtown Toronto</td>\n",
       "      <td>Regent Park, Harbourfront</td>\n",
       "    </tr>\n",
       "    <tr>\n",
       "      <th>5</th>\n",
       "      <td>M6A</td>\n",
       "      <td>North York</td>\n",
       "      <td>Lawrence Manor, Lawrence Heights</td>\n",
       "    </tr>\n",
       "    <tr>\n",
       "      <th>6</th>\n",
       "      <td>M7A</td>\n",
       "      <td>Downtown Toronto</td>\n",
       "      <td>Queen's Park, Ontario Provincial Government</td>\n",
       "    </tr>\n",
       "    <tr>\n",
       "      <th>8</th>\n",
       "      <td>M9A</td>\n",
       "      <td>Etobicoke</td>\n",
       "      <td>Islington Avenue, Humber Valley Village</td>\n",
       "    </tr>\n",
       "    <tr>\n",
       "      <th>9</th>\n",
       "      <td>M1B</td>\n",
       "      <td>Scarborough</td>\n",
       "      <td>Malvern, Rouge</td>\n",
       "    </tr>\n",
       "    <tr>\n",
       "      <th>11</th>\n",
       "      <td>M3B</td>\n",
       "      <td>North York</td>\n",
       "      <td>Don Mills</td>\n",
       "    </tr>\n",
       "    <tr>\n",
       "      <th>12</th>\n",
       "      <td>M4B</td>\n",
       "      <td>East York</td>\n",
       "      <td>Parkview Hill, Woodbine Gardens</td>\n",
       "    </tr>\n",
       "    <tr>\n",
       "      <th>13</th>\n",
       "      <td>M5B</td>\n",
       "      <td>Downtown Toronto</td>\n",
       "      <td>Garden District, Ryerson</td>\n",
       "    </tr>\n",
       "  </tbody>\n",
       "</table>\n",
       "</div>"
      ],
      "text/plain": [
       "   Postal Code           Borough                                Neighbourhood\n",
       "2          M3A        North York                                    Parkwoods\n",
       "3          M4A        North York                             Victoria Village\n",
       "4          M5A  Downtown Toronto                    Regent Park, Harbourfront\n",
       "5          M6A        North York             Lawrence Manor, Lawrence Heights\n",
       "6          M7A  Downtown Toronto  Queen's Park, Ontario Provincial Government\n",
       "8          M9A         Etobicoke      Islington Avenue, Humber Valley Village\n",
       "9          M1B       Scarborough                               Malvern, Rouge\n",
       "11         M3B        North York                                    Don Mills\n",
       "12         M4B         East York              Parkview Hill, Woodbine Gardens\n",
       "13         M5B  Downtown Toronto                     Garden District, Ryerson"
      ]
     },
     "execution_count": 8,
     "metadata": {},
     "output_type": "execute_result"
    }
   ],
   "source": [
    "df.head(10)"
   ]
  },
  {
   "cell_type": "code",
   "execution_count": 9,
   "metadata": {},
   "outputs": [
    {
     "data": {
      "text/plain": [
       "Postal Code      0\n",
       "Borough          0\n",
       "Neighbourhood    0\n",
       "dtype: int64"
      ]
     },
     "execution_count": 9,
     "metadata": {},
     "output_type": "execute_result"
    }
   ],
   "source": [
    "# check any neighbourhood has value Not assigned.\n",
    "df[df.Neighbourhood == \"Not assigned\"].count()"
   ]
  },
  {
   "cell_type": "code",
   "execution_count": 10,
   "metadata": {},
   "outputs": [
    {
     "data": {
      "text/plain": [
       "(103, 3)"
      ]
     },
     "execution_count": 10,
     "metadata": {},
     "output_type": "execute_result"
    }
   ],
   "source": [
    "# Show data frame Shape\n",
    "df.shape"
   ]
  },
  {
   "cell_type": "code",
   "execution_count": 11,
   "metadata": {},
   "outputs": [],
   "source": [
    "#import geocoder # import geocoder\n",
    "\n",
    "## initialize your variable to None\n",
    "#lat_lng_coords = None\n",
    "\n",
    "## loop until you get the coordinates\n",
    "#while(lat_lng_coords is None):\n",
    "#  g = geocoder.google('{}, Toronto, Ontario'.format(postal_code))\n",
    "#  lat_lng_coords = g.latlng\n",
    "\n",
    "#latitude = lat_lng_coords[0]\n",
    "#longitude = lat_lng_coords[1]"
   ]
  },
  {
   "cell_type": "code",
   "execution_count": 12,
   "metadata": {},
   "outputs": [
    {
     "data": {
      "text/html": [
       "<div>\n",
       "<style scoped>\n",
       "    .dataframe tbody tr th:only-of-type {\n",
       "        vertical-align: middle;\n",
       "    }\n",
       "\n",
       "    .dataframe tbody tr th {\n",
       "        vertical-align: top;\n",
       "    }\n",
       "\n",
       "    .dataframe thead th {\n",
       "        text-align: right;\n",
       "    }\n",
       "</style>\n",
       "<table border=\"1\" class=\"dataframe\">\n",
       "  <thead>\n",
       "    <tr style=\"text-align: right;\">\n",
       "      <th></th>\n",
       "      <th>Postal Code</th>\n",
       "      <th>Latitude</th>\n",
       "      <th>Longitude</th>\n",
       "    </tr>\n",
       "  </thead>\n",
       "  <tbody>\n",
       "    <tr>\n",
       "      <th>0</th>\n",
       "      <td>M1B</td>\n",
       "      <td>43.806686</td>\n",
       "      <td>-79.194353</td>\n",
       "    </tr>\n",
       "    <tr>\n",
       "      <th>1</th>\n",
       "      <td>M1C</td>\n",
       "      <td>43.784535</td>\n",
       "      <td>-79.160497</td>\n",
       "    </tr>\n",
       "    <tr>\n",
       "      <th>2</th>\n",
       "      <td>M1E</td>\n",
       "      <td>43.763573</td>\n",
       "      <td>-79.188711</td>\n",
       "    </tr>\n",
       "    <tr>\n",
       "      <th>3</th>\n",
       "      <td>M1G</td>\n",
       "      <td>43.770992</td>\n",
       "      <td>-79.216917</td>\n",
       "    </tr>\n",
       "    <tr>\n",
       "      <th>4</th>\n",
       "      <td>M1H</td>\n",
       "      <td>43.773136</td>\n",
       "      <td>-79.239476</td>\n",
       "    </tr>\n",
       "  </tbody>\n",
       "</table>\n",
       "</div>"
      ],
      "text/plain": [
       "  Postal Code   Latitude  Longitude\n",
       "0         M1B  43.806686 -79.194353\n",
       "1         M1C  43.784535 -79.160497\n",
       "2         M1E  43.763573 -79.188711\n",
       "3         M1G  43.770992 -79.216917\n",
       "4         M1H  43.773136 -79.239476"
      ]
     },
     "execution_count": 12,
     "metadata": {},
     "output_type": "execute_result"
    }
   ],
   "source": [
    "#Load geographical coordinates\n",
    "geo_df = pd.read_csv('Geospatial_Coordinates.csv')\n",
    "geo_df.head()"
   ]
  },
  {
   "cell_type": "code",
   "execution_count": 13,
   "metadata": {},
   "outputs": [],
   "source": [
    "# Merge Neighbourhood dataframe with geographical coordinates\n",
    "dfall = pd.merge(df, geo_df, on=['Postal Code','Postal Code'])"
   ]
  },
  {
   "cell_type": "code",
   "execution_count": 14,
   "metadata": {},
   "outputs": [
    {
     "data": {
      "text/html": [
       "<div>\n",
       "<style scoped>\n",
       "    .dataframe tbody tr th:only-of-type {\n",
       "        vertical-align: middle;\n",
       "    }\n",
       "\n",
       "    .dataframe tbody tr th {\n",
       "        vertical-align: top;\n",
       "    }\n",
       "\n",
       "    .dataframe thead th {\n",
       "        text-align: right;\n",
       "    }\n",
       "</style>\n",
       "<table border=\"1\" class=\"dataframe\">\n",
       "  <thead>\n",
       "    <tr style=\"text-align: right;\">\n",
       "      <th></th>\n",
       "      <th>Postal Code</th>\n",
       "      <th>Borough</th>\n",
       "      <th>Neighbourhood</th>\n",
       "      <th>Latitude</th>\n",
       "      <th>Longitude</th>\n",
       "    </tr>\n",
       "  </thead>\n",
       "  <tbody>\n",
       "    <tr>\n",
       "      <th>0</th>\n",
       "      <td>M3A</td>\n",
       "      <td>North York</td>\n",
       "      <td>Parkwoods</td>\n",
       "      <td>43.753259</td>\n",
       "      <td>-79.329656</td>\n",
       "    </tr>\n",
       "    <tr>\n",
       "      <th>1</th>\n",
       "      <td>M4A</td>\n",
       "      <td>North York</td>\n",
       "      <td>Victoria Village</td>\n",
       "      <td>43.725882</td>\n",
       "      <td>-79.315572</td>\n",
       "    </tr>\n",
       "    <tr>\n",
       "      <th>2</th>\n",
       "      <td>M5A</td>\n",
       "      <td>Downtown Toronto</td>\n",
       "      <td>Regent Park, Harbourfront</td>\n",
       "      <td>43.654260</td>\n",
       "      <td>-79.360636</td>\n",
       "    </tr>\n",
       "    <tr>\n",
       "      <th>3</th>\n",
       "      <td>M6A</td>\n",
       "      <td>North York</td>\n",
       "      <td>Lawrence Manor, Lawrence Heights</td>\n",
       "      <td>43.718518</td>\n",
       "      <td>-79.464763</td>\n",
       "    </tr>\n",
       "    <tr>\n",
       "      <th>4</th>\n",
       "      <td>M7A</td>\n",
       "      <td>Downtown Toronto</td>\n",
       "      <td>Queen's Park, Ontario Provincial Government</td>\n",
       "      <td>43.662301</td>\n",
       "      <td>-79.389494</td>\n",
       "    </tr>\n",
       "  </tbody>\n",
       "</table>\n",
       "</div>"
      ],
      "text/plain": [
       "  Postal Code           Borough                                Neighbourhood  \\\n",
       "0         M3A        North York                                    Parkwoods   \n",
       "1         M4A        North York                             Victoria Village   \n",
       "2         M5A  Downtown Toronto                    Regent Park, Harbourfront   \n",
       "3         M6A        North York             Lawrence Manor, Lawrence Heights   \n",
       "4         M7A  Downtown Toronto  Queen's Park, Ontario Provincial Government   \n",
       "\n",
       "    Latitude  Longitude  \n",
       "0  43.753259 -79.329656  \n",
       "1  43.725882 -79.315572  \n",
       "2  43.654260 -79.360636  \n",
       "3  43.718518 -79.464763  \n",
       "4  43.662301 -79.389494  "
      ]
     },
     "execution_count": 14,
     "metadata": {},
     "output_type": "execute_result"
    }
   ],
   "source": [
    "dfall.head()"
   ]
  },
  {
   "cell_type": "code",
   "execution_count": 15,
   "metadata": {},
   "outputs": [
    {
     "name": "stdout",
     "output_type": "stream",
     "text": [
      "<class 'pandas.core.frame.DataFrame'>\n",
      "Int64Index: 39 entries, 2 to 100\n",
      "Data columns (total 5 columns):\n",
      " #   Column         Non-Null Count  Dtype  \n",
      "---  ------         --------------  -----  \n",
      " 0   Postal Code    39 non-null     object \n",
      " 1   Borough        39 non-null     object \n",
      " 2   Neighbourhood  39 non-null     object \n",
      " 3   Latitude       39 non-null     float64\n",
      " 4   Longitude      39 non-null     float64\n",
      "dtypes: float64(2), object(3)\n",
      "memory usage: 1.8+ KB\n"
     ]
    }
   ],
   "source": [
    "#get only Toronto borough\n",
    "dfToronto = dfall[dfall['Borough'].str.contains(\"Toronto\")]\n",
    "    \n",
    "dfToronto.info()   \n",
    "    "
   ]
  },
  {
   "cell_type": "code",
   "execution_count": 16,
   "metadata": {},
   "outputs": [
    {
     "data": {
      "text/html": [
       "<div>\n",
       "<style scoped>\n",
       "    .dataframe tbody tr th:only-of-type {\n",
       "        vertical-align: middle;\n",
       "    }\n",
       "\n",
       "    .dataframe tbody tr th {\n",
       "        vertical-align: top;\n",
       "    }\n",
       "\n",
       "    .dataframe thead th {\n",
       "        text-align: right;\n",
       "    }\n",
       "</style>\n",
       "<table border=\"1\" class=\"dataframe\">\n",
       "  <thead>\n",
       "    <tr style=\"text-align: right;\">\n",
       "      <th></th>\n",
       "      <th>Postal Code</th>\n",
       "      <th>Borough</th>\n",
       "      <th>Neighbourhood</th>\n",
       "      <th>Latitude</th>\n",
       "      <th>Longitude</th>\n",
       "    </tr>\n",
       "  </thead>\n",
       "  <tbody>\n",
       "    <tr>\n",
       "      <th>2</th>\n",
       "      <td>M5A</td>\n",
       "      <td>Downtown Toronto</td>\n",
       "      <td>Regent Park, Harbourfront</td>\n",
       "      <td>43.654260</td>\n",
       "      <td>-79.360636</td>\n",
       "    </tr>\n",
       "    <tr>\n",
       "      <th>4</th>\n",
       "      <td>M7A</td>\n",
       "      <td>Downtown Toronto</td>\n",
       "      <td>Queen's Park, Ontario Provincial Government</td>\n",
       "      <td>43.662301</td>\n",
       "      <td>-79.389494</td>\n",
       "    </tr>\n",
       "    <tr>\n",
       "      <th>9</th>\n",
       "      <td>M5B</td>\n",
       "      <td>Downtown Toronto</td>\n",
       "      <td>Garden District, Ryerson</td>\n",
       "      <td>43.657162</td>\n",
       "      <td>-79.378937</td>\n",
       "    </tr>\n",
       "    <tr>\n",
       "      <th>15</th>\n",
       "      <td>M5C</td>\n",
       "      <td>Downtown Toronto</td>\n",
       "      <td>St. James Town</td>\n",
       "      <td>43.651494</td>\n",
       "      <td>-79.375418</td>\n",
       "    </tr>\n",
       "    <tr>\n",
       "      <th>19</th>\n",
       "      <td>M4E</td>\n",
       "      <td>East Toronto</td>\n",
       "      <td>The Beaches</td>\n",
       "      <td>43.676357</td>\n",
       "      <td>-79.293031</td>\n",
       "    </tr>\n",
       "  </tbody>\n",
       "</table>\n",
       "</div>"
      ],
      "text/plain": [
       "   Postal Code           Borough                                Neighbourhood  \\\n",
       "2          M5A  Downtown Toronto                    Regent Park, Harbourfront   \n",
       "4          M7A  Downtown Toronto  Queen's Park, Ontario Provincial Government   \n",
       "9          M5B  Downtown Toronto                     Garden District, Ryerson   \n",
       "15         M5C  Downtown Toronto                               St. James Town   \n",
       "19         M4E      East Toronto                                  The Beaches   \n",
       "\n",
       "     Latitude  Longitude  \n",
       "2   43.654260 -79.360636  \n",
       "4   43.662301 -79.389494  \n",
       "9   43.657162 -79.378937  \n",
       "15  43.651494 -79.375418  \n",
       "19  43.676357 -79.293031  "
      ]
     },
     "execution_count": 16,
     "metadata": {},
     "output_type": "execute_result"
    }
   ],
   "source": [
    "dfToronto.head()\n",
    "    "
   ]
  },
  {
   "cell_type": "code",
   "execution_count": 17,
   "metadata": {},
   "outputs": [
    {
     "name": "stdout",
     "output_type": "stream",
     "text": [
      "The dataframe has 4 boroughs and 39 neighborhoods.\n"
     ]
    }
   ],
   "source": [
    "print('The dataframe has {} boroughs and {} neighborhoods.'.format(\n",
    "        len(dfToronto['Borough'].unique()),\n",
    "        dfToronto.shape[0]\n",
    "    )\n",
    ")"
   ]
  },
  {
   "cell_type": "code",
   "execution_count": 18,
   "metadata": {},
   "outputs": [
    {
     "name": "stdout",
     "output_type": "stream",
     "text": [
      "The geograpical coordinate of Toronto are 43.6534817, -79.3839347.\n"
     ]
    }
   ],
   "source": [
    "from geopy.geocoders import Nominatim\n",
    "address = 'Toronto'\n",
    "\n",
    "geolocator = Nominatim(user_agent=\"ny_explorer\")\n",
    "location = geolocator.geocode(address)\n",
    "latitude = location.latitude\n",
    "longitude = location.longitude\n",
    "print('The geograpical coordinate of Toronto are {}, {}.'.format(latitude, longitude))"
   ]
  },
  {
   "cell_type": "code",
   "execution_count": 19,
   "metadata": {},
   "outputs": [
    {
     "data": {
      "text/html": [
       "<div style=\"width:100%;\"><div style=\"position:relative;width:100%;height:0;padding-bottom:60%;\"><span style=\"color:#565656\">Make this Notebook Trusted to load map: File -> Trust Notebook</span><iframe src=\"about:blank\" style=\"position:absolute;width:100%;height:100%;left:0;top:0;border:none !important;\" data-html=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 onload=\"this.contentDocument.open();this.contentDocument.write(atob(this.getAttribute('data-html')));this.contentDocument.close();\" allowfullscreen webkitallowfullscreen mozallowfullscreen></iframe></div></div>"
      ],
      "text/plain": [
       "<folium.folium.Map at 0x1c84e779b50>"
      ]
     },
     "execution_count": 19,
     "metadata": {},
     "output_type": "execute_result"
    }
   ],
   "source": [
    "# create map of Toronto using latitude and longitude values.\n",
    "import folium # map rendering library\n",
    "map_Toronto = folium.Map(location=[latitude, longitude], zoom_start=10)\n",
    "\n",
    "# add markers to map\n",
    "for lat, lng, borough, neighborhood in zip(dfToronto['Latitude'], dfToronto['Longitude'], dfToronto['Borough'], dfToronto['Neighbourhood']):\n",
    "    label = '{}, {}'.format(neighborhood, borough)\n",
    "    label = folium.Popup(label, parse_html=True)\n",
    "    folium.CircleMarker(\n",
    "        [lat, lng],\n",
    "        radius=5,\n",
    "        popup=label,\n",
    "        color='blue',\n",
    "        fill=True,\n",
    "        fill_color='#3186cc',\n",
    "        fill_opacity=0.7,\n",
    "        parse_html=False).add_to(map_Toronto)  \n",
    "    \n",
    "map_Toronto"
   ]
  },
  {
   "cell_type": "code",
   "execution_count": null,
   "metadata": {},
   "outputs": [],
   "source": []
  }
 ],
 "metadata": {
  "kernelspec": {
   "display_name": "Python 3",
   "language": "python",
   "name": "python3"
  },
  "language_info": {
   "codemirror_mode": {
    "name": "ipython",
    "version": 3
   },
   "file_extension": ".py",
   "mimetype": "text/x-python",
   "name": "python",
   "nbconvert_exporter": "python",
   "pygments_lexer": "ipython3",
   "version": "3.8.3"
  }
 },
 "nbformat": 4,
 "nbformat_minor": 4
}
